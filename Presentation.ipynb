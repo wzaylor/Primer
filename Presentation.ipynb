{
 "cells": [
  {
   "cell_type": "markdown",
   "metadata": {
    "slideshow": {
     "slide_type": "slide"
    }
   },
   "source": [
    "## Python primer"
   ]
  },
  {
   "cell_type": "markdown",
   "metadata": {
    "slideshow": {
     "slide_type": "skip"
    }
   },
   "source": [
    "### Outline\n",
    "* Basics\n",
    "  * Variable types\n",
    "  * syntax\n",
    "  * imports\n",
    "* Aims when coding\n",
    "  * Readable\n",
    "  * Re-useable\n",
    "  * Traceable\n",
    "* Functions\n",
    "  * Syntax\n",
    "    * Inputs\n",
    "    * Optional inputs\n",
    "    * Outputs\n",
    "* Classes\n",
    "  * A word on classes\n",
    "  * \n",
    "* VTK"
   ]
  },
  {
   "cell_type": "markdown",
   "metadata": {
    "slideshow": {
     "slide_type": "slide"
    }
   },
   "source": [
    "# Common variable types"
   ]
  },
  {
   "cell_type": "markdown",
   "metadata": {},
   "source": [
    "## float"
   ]
  },
  {
   "cell_type": "code",
   "execution_count": null,
   "metadata": {
    "collapsed": true
   },
   "outputs": [],
   "source": [
    "someFloatVar = 5.0"
   ]
  },
  {
   "cell_type": "markdown",
   "metadata": {},
   "source": [
    "## int"
   ]
  },
  {
   "cell_type": "markdown",
   "metadata": {},
   "source": [
    "someIntVar = 1"
   ]
  },
  {
   "cell_type": "markdown",
   "metadata": {},
   "source": [
    "## string"
   ]
  },
  {
   "cell_type": "code",
   "execution_count": null,
   "metadata": {
    "collapsed": true
   },
   "outputs": [],
   "source": [
    "someString = 'A string is words'"
   ]
  },
  {
   "cell_type": "markdown",
   "metadata": {
    "slideshow": {
     "slide_type": "subslide"
    }
   },
   "source": [
    "## list\n",
    "* Defined with brackets\n",
    "* Comma separated values\n",
    "* Entries can be different variable types\n",
    "  * Good for storing data\n",
    "  * Not great for math\n",
    "  \n",
    "* Individual entries are called by their index\n",
    "  * First index is 0\n",
    "  \n",
    "* Can be 1D or 2D\n",
    "  * 2D lists can be a pain compared to arrays\n",
    "  \n",
    "* Can 'grab' parts of lists between indicies\n",
    "  * Demonstrated below in Arrays"
   ]
  },
  {
   "cell_type": "code",
   "execution_count": null,
   "metadata": {
    "collapsed": false
   },
   "outputs": [],
   "source": [
    "someList = [1, 1.0, 'Word1', 'word32']\n",
    "print 'someList[0] = ', someList[0]\n",
    "print 'someList[1] = ', someList[1]\n",
    "print 'someList[2] = ', someList[2]\n",
    "print 'someList[3] = ', someList[3]"
   ]
  },
  {
   "cell_type": "markdown",
   "metadata": {
    "slideshow": {
     "slide_type": "subslide"
    }
   },
   "source": [
    "## Array\n",
    "\n",
    "* Not a built-in function\n",
    "  * A numpy variable type\n",
    "* Good for math\n",
    "  * Addition and scalar multiplication like a vector\n",
    "  * Check matrix multiplication\n",
    "    * Usually better to define a numpy matrix\n",
    "* Can be 1D or 2D\n",
    "  * Easy to separate into rows/columns\n",
    "  * The colon ':' means all of the indicies (shown below)\n",
    "    * ':3' means all of the indicies up to 3 (but not including 3)\n",
    "    * '4:' means all of the indicies after 4 (and including 4)\n",
    "    * '2:5' means all of the indicies after 2, and up to and including 5"
   ]
  },
  {
   "cell_type": "code",
   "execution_count": null,
   "metadata": {
    "collapsed": true
   },
   "outputs": [],
   "source": [
    "import numpy\n",
    "\n",
    "someArray = numpy.array([1,2,3,4,5])\n",
    "\n",
    "someOtherArray = numpy.array([[1,2,3,4,5],\n",
    "                             [6,7,8,9,10],\n",
    "                             [11,12,13,14,15]])\n",
    "\n",
    "row1 = someOtherArray[0,:]\n",
    "column3 = someOtherArray[:,2]\n",
    "upperLeft = someOtherArray[:2, :2]"
   ]
  },
  {
   "cell_type": "markdown",
   "metadata": {
    "slideshow": {
     "slide_type": "subslide"
    }
   },
   "source": [
    "## Dictionary\n",
    "* A variable that is index by keys\n",
    "* Keys can be\n",
    "  * strings\n",
    "  * ints\n",
    "  * floats (not recommended)\n",
    "* Good for passing data between functions\n",
    "  * Can mix variable types\n",
    "  * Keys and values can be added at any time\n",
    "* Can be defined in a few ways\n",
    "  * Defined with curly brackets\n",
    "  * can be populated upon definition or after"
   ]
  },
  {
   "cell_type": "code",
   "execution_count": 6,
   "metadata": {
    "collapsed": false
   },
   "outputs": [
    {
     "name": "stdout",
     "output_type": "stream",
     "text": [
      "Frank\n",
      "['this key contains a list', 543, 'The next index is the person1 dictionary', {'lastName': 'McGarnagle', 'age': 48, 'firstName': 'Frank', 'gender': 'Male'}]\n",
      "McGarnagle\n"
     ]
    }
   ],
   "source": [
    "person1 = {'firstName':'Frank', 'lastName':'McGarnagle', 'age':48, 'gender':'Male'}\n",
    "print person1['firstName']\n",
    "\n",
    "otherDict = {}\n",
    "otherDict['firstName'] = 'Some other name'\n",
    "otherDict['lastName'] = 'Some other last name'\n",
    "otherDict['age'] = 5.5\n",
    "otherDict[1092] = ['this key contains a list', 543, \n",
    "                   'The next index is the person1 dictionary', person1]\n",
    "\n",
    "print otherDict[1092]\n",
    "print otherDict[1092][3]['lastName'] # Let's discuss this statement\n"
   ]
  },
  {
   "cell_type": "markdown",
   "metadata": {
    "slideshow": {
     "slide_type": "subslide"
    }
   },
   "source": [
    "## Tuple\n",
    "* Cannot be changed after they are defined\n",
    "* Like lists\n",
    "  * Indicies are accessed the same way\n",
    "  * Variable types can be mixed\n",
    "  * Can be 1D or 2D\n",
    "  * Use parenthesis instead of brackets\n",
    "\n",
    "#### Quick note:\n",
    "Tuples are defined with parenthesis, however a tuple with only one index needs to have a comma.\n",
    "\n",
    "In the code below, **x** is not a tuple, but **y** and **z** are tuples"
   ]
  },
  {
   "cell_type": "code",
   "execution_count": null,
   "metadata": {
    "collapsed": true
   },
   "outputs": [],
   "source": [
    "x = (4.7)\n",
    "y = (4.7,)\n",
    "z = (4.7, 5.5, 5000.1)"
   ]
  },
  {
   "cell_type": "markdown",
   "metadata": {
    "slideshow": {
     "slide_type": "slide"
    }
   },
   "source": [
    "# General syntax\n",
    "* Indents are used to define code blocks\n",
    "  * loops\n",
    "  * functions\n",
    "  * classes"
   ]
  },
  {
   "cell_type": "code",
   "execution_count": null,
   "metadata": {
    "collapsed": false
   },
   "outputs": [],
   "source": [
    "someList = [1049, 55, 64, \"what the hell, this isn't a number\", 5.34]\n",
    "\n",
    "for i in someList: # Iterate over the values in someList\n",
    "    print i \n",
    "    print type(i) # Show the type of the current list entry\n",
    "    print '------------'\n"
   ]
  },
  {
   "cell_type": "markdown",
   "metadata": {
    "slideshow": {
     "slide_type": "subslide"
    }
   },
   "source": [
    "A common line in a for loop"
   ]
  },
  {
   "cell_type": "code",
   "execution_count": null,
   "metadata": {
    "collapsed": false,
    "slideshow": {
     "slide_type": "-"
    }
   },
   "outputs": [],
   "source": [
    "someList = [1049, 55, 64, \"what the hell, this isn't a number\", 5.34]\n",
    "\n",
    "for i in range(5):\n",
    "    print someList[i]\n",
    "    print type(someList[i]) # Show the type of the current list entry\n",
    "    print '------------'"
   ]
  },
  {
   "cell_type": "markdown",
   "metadata": {
    "slideshow": {
     "slide_type": "-"
    }
   },
   "source": [
    "##### Note that \"range\" is a built-in function\n",
    "* range(5) = [0, 1, 2, 3, 4]\n",
    "\n",
    "We can improve the above statement with another built-in function called \"len\" which returns the length of a list or array-like variable"
   ]
  },
  {
   "cell_type": "code",
   "execution_count": null,
   "metadata": {
    "collapsed": true,
    "slideshow": {
     "slide_type": "-"
    }
   },
   "outputs": [],
   "source": [
    "someList = [1049, 55, 64, \"what the hell, this isn't a number\", 5.34]\n",
    "\n",
    "for i in range(len(someList)):\n",
    "    print someList[i]\n",
    "    print type(someList[i]) # Show the type of the current list entry\n",
    "    print '------------'"
   ]
  },
  {
   "cell_type": "markdown",
   "metadata": {
    "slideshow": {
     "slide_type": "slide"
    }
   },
   "source": [
    "# Aims when coding\n",
    "* Readable\n",
    "* Re-useable\n",
    "* Traceable"
   ]
  },
  {
   "cell_type": "markdown",
   "metadata": {
    "slideshow": {
     "slide_type": "subslide"
    }
   },
   "source": [
    "# Don't do what Donny Don't does\n",
    "![alt text](http://i.imgur.com/8iObp0A.png)"
   ]
  },
  {
   "cell_type": "markdown",
   "metadata": {
    "slideshow": {
     "slide_type": "subslide"
    }
   },
   "source": [
    "## Readable\n",
    "* Descriptive variable names *(for the love of god, use descriptive names)*\n",
    "* Use comments \n",
    "  * look into docstrings (start with sphynx for python docstrings. Sphynx is automatically installed with PyCharm)\n",
    "* Short functions\n",
    "  * Minimize the number of operations one function performs\n",
    "    * It's easier to debug 20 functions which have 20 lines than one 400 line function"
   ]
  },
  {
   "cell_type": "markdown",
   "metadata": {},
   "source": [
    "## Donny Don't Does"
   ]
  },
  {
   "cell_type": "code",
   "execution_count": null,
   "metadata": {
    "collapsed": true
   },
   "outputs": [],
   "source": [
    "x = 5.0\n",
    "y = 4.3\n",
    "f = 10.0\n",
    "s = f/(x*y)"
   ]
  },
  {
   "cell_type": "markdown",
   "metadata": {},
   "source": [
    "## Donny Don't Doesn't"
   ]
  },
  {
   "cell_type": "code",
   "execution_count": null,
   "metadata": {
    "collapsed": true
   },
   "outputs": [],
   "source": [
    "thickness = 5.0 # mm\n",
    "width = 4.3 # mm\n",
    "force = 10.0 # N, Force normal to cross section\n",
    "stress = force/(thickness*width) # MPa"
   ]
  },
  {
   "cell_type": "markdown",
   "metadata": {
    "slideshow": {
     "slide_type": "subslide"
    }
   },
   "source": [
    "## Re-useable\n",
    "  * Create generic/modular functions\n",
    "  * Import functions from other scripts"
   ]
  },
  {
   "cell_type": "markdown",
   "metadata": {},
   "source": [
    "## Donny Don't Does"
   ]
  },
  {
   "cell_type": "code",
   "execution_count": null,
   "metadata": {
    "collapsed": true
   },
   "outputs": [],
   "source": [
    "def fun(f, x, y):\n",
    "    s = f/(x*y)\n",
    "    return s\n",
    "x = 5.0\n",
    "y = 4.3\n",
    "f = 10.0"
   ]
  },
  {
   "cell_type": "markdown",
   "metadata": {},
   "source": [
    "## Donny Don't Doesn't"
   ]
  },
  {
   "cell_type": "code",
   "execution_count": null,
   "metadata": {
    "collapsed": false
   },
   "outputs": [],
   "source": [
    "def getStress(thickness, width, force):\n",
    "    stress = force/(thickness*width)\n",
    "    return stress\n",
    "\n",
    "def _testFun():\n",
    "    thck = 5.0\n",
    "    wdth = 4.3\n",
    "    frc = 1.0\n",
    "    sigma = getStress(thck, wdth, frc)\n",
    "    print sigma\n",
    "\n",
    "if __name__=='__main__':\n",
    "    _testFun()"
   ]
  },
  {
   "cell_type": "markdown",
   "metadata": {
    "slideshow": {
     "slide_type": "subslide"
    }
   },
   "source": [
    "## Traceable\n",
    "* Definition: The feature that keeps you from asking *\"Where the hell did that variable come from?\"*"
   ]
  },
  {
   "cell_type": "markdown",
   "metadata": {},
   "source": [
    "## Donny Don't Does"
   ]
  },
  {
   "cell_type": "code",
   "execution_count": null,
   "metadata": {
    "collapsed": true
   },
   "outputs": [],
   "source": [
    "from numpy import array, sin, cos\n",
    "from scipy.optimize import *"
   ]
  },
  {
   "cell_type": "markdown",
   "metadata": {},
   "source": [
    "## Donny Don't Doesn't"
   ]
  },
  {
   "cell_type": "code",
   "execution_count": null,
   "metadata": {
    "collapsed": true
   },
   "outputs": [],
   "source": [
    "import numpy as np\n",
    "from scipy import optimize"
   ]
  },
  {
   "cell_type": "markdown",
   "metadata": {
    "slideshow": {
     "slide_type": "slide"
    }
   },
   "source": [
    "# Functions"
   ]
  },
  {
   "cell_type": "markdown",
   "metadata": {},
   "source": [
    "## syntax\n",
    "def functionName():\n",
    "\n",
    "* Does not require inputs\n",
    "* Does not need to return values\n",
    "* Indented code is part of the function\n",
    "\n",
    "## Normally"
   ]
  },
  {
   "cell_type": "code",
   "execution_count": null,
   "metadata": {
    "collapsed": true
   },
   "outputs": [],
   "source": [
    "def someUsefulFunction(input1, input2):\n",
    "    someVal = input1 + input2\n",
    "    return someVal\n",
    "\n",
    "value = someUsefulFunction(20.0, 1.09)"
   ]
  },
  {
   "cell_type": "markdown",
   "metadata": {
    "slideshow": {
     "slide_type": "subslide"
    }
   },
   "source": [
    "## Importing functions\n",
    "### Scenario\n",
    "* You're writing scriptB.py\n",
    "* You've already written usefulScriptA.py\n",
    "* usefulScriptA.py contains a function that you want to use in scriptB.py\n",
    "  * NOTE: scriptB.py is in the same folder as usefulScriptA.py"
   ]
  },
  {
   "cell_type": "markdown",
   "metadata": {},
   "source": [
    "### usefulScriptA.py"
   ]
  },
  {
   "cell_type": "code",
   "execution_count": null,
   "metadata": {
    "collapsed": true
   },
   "outputs": [],
   "source": [
    "def usefulFunction(input1, input2):\n",
    "    val = input1 + input2\n",
    "    return val"
   ]
  },
  {
   "cell_type": "markdown",
   "metadata": {},
   "source": [
    "## scriptB.py"
   ]
  },
  {
   "cell_type": "code",
   "execution_count": null,
   "metadata": {
    "collapsed": true
   },
   "outputs": [],
   "source": [
    "import usefulScriptA\n",
    "\n",
    "someVal = usefulScriptA.usefulFunction(2.1, 560.002)"
   ]
  },
  {
   "cell_type": "markdown",
   "metadata": {
    "slideshow": {
     "slide_type": "subslide"
    }
   },
   "source": [
    "### What if usefulScriptA.py is *not* in the same folder as scriptB.py?\n",
    "* usefulScriptA.py is located in c:\\Projects\\src\\usefulScriptA.py\n",
    "* scriptB.py is located in c:\\Projects\\usefulScriptB.py"
   ]
  },
  {
   "cell_type": "markdown",
   "metadata": {},
   "source": [
    "## scriptB.py"
   ]
  },
  {
   "cell_type": "code",
   "execution_count": null,
   "metadata": {
    "collapsed": true
   },
   "outputs": [],
   "source": [
    "import sys\n",
    "sys.path.add('src') # Add *current path*\\src to the system path\n",
    "\n",
    "import usefulScriptA\n",
    "\n",
    "someVal = usefulScriptA.usefulFunction(2.1, 560.002)"
   ]
  },
  {
   "cell_type": "markdown",
   "metadata": {
    "slideshow": {
     "slide_type": "fragment"
    }
   },
   "source": [
    "* usefulScriptA.py is located in c:\\Projects\\src\\usefulScriptA.py\n",
    "* scriptB.py is located in c:\\Projects\\SomeOtherSrc\\usefulScriptB.py"
   ]
  },
  {
   "cell_type": "code",
   "execution_count": null,
   "metadata": {
    "collapsed": true
   },
   "outputs": [],
   "source": [
    "import sys\n",
    "sys.path.add('..\\\\src') # **Go up one folder*\\src - Ask me about the '\\\\'\n",
    "\n",
    "import usefulScriptA\n",
    "\n",
    "someVal = usefulScriptA.usefulFunction(2.1, 560.002)"
   ]
  },
  {
   "cell_type": "markdown",
   "metadata": {},
   "source": [
    "* Use relative paths for scripts in the same project\n",
    "* You will run into path issues between Linux and Windows\n",
    "  * A google search shows the solution to that problem"
   ]
  },
  {
   "cell_type": "markdown",
   "metadata": {
    "slideshow": {
     "slide_type": "subslide"
    }
   },
   "source": [
    "## Don't go it alone\n",
    "* Packages of scripts called \"modules\" have been developed\n",
    "  * numpy\n",
    "  * scipy\n",
    "  * matplotlib\n",
    "* Same idea as importing your own scripts\n",
    "![alt text](numpyLinalgFile.png)"
   ]
  },
  {
   "cell_type": "code",
   "execution_count": null,
   "metadata": {
    "collapsed": true
   },
   "outputs": [],
   "source": [
    "import numpy as np # I use the \"as np\" because I'm lazy and don't want to type numpy.linalg.norm(...)\n",
    "\n",
    "someArray = np.array([1,2,3])\n",
    "arrayMagnitude = np.linalg.norm(someArray)"
   ]
  },
  {
   "cell_type": "markdown",
   "metadata": {
    "slideshow": {
     "slide_type": "subslide"
    }
   },
   "source": [
    "## Optional/defualt inputs\n",
    "* Inputs with a default value\n",
    "  * If no value is given in the function call, then the default value is used\n",
    "* Come after the required inputs\n",
    "* Unlike normal variables, the order does not matter\n",
    "  * Similarly, regular inputs can be specified by variable name instead of the input order\n",
    "\n",
    "In this example, **someDefVar1** has a default value of **0.1**, **someDefVar2** has a default value of **10.0**"
   ]
  },
  {
   "cell_type": "code",
   "execution_count": null,
   "metadata": {
    "collapsed": false
   },
   "outputs": [],
   "source": [
    "def someFunction(reqInput1, someDefVar1=0.1, someDefVar2=10.0):\n",
    "    print 'reqInput1, someDefVar1, someDefVar2 = ', reqInput1, someDefVar1, someDefVar2\n",
    "    calculatedList = [reqInput1, someDefVar1 + 2, reqInput1*someDefVar2]\n",
    "    return calculatedList\n",
    "\n",
    "someList1 = someFunction(443.9)\n",
    "someList2 = someFunction(0.2, someDefVar2=3, someDefVar1=0.065)\n",
    "someList3 = someFunction(0.9, someDefVar2=56.0)\n",
    "\n",
    "someList4 = someFunction(someDefVar1=10, someDefVar2=20.0, reqInput1=560)"
   ]
  },
  {
   "cell_type": "markdown",
   "metadata": {
    "slideshow": {
     "slide_type": "subslide"
    }
   },
   "source": [
    "## Scope\n",
    "### Python searches for variables in this order:\n",
    "1. Inner-most scope (local variables)\n",
    "  * Search within the current function\n",
    "2. Enclosing function variables\n",
    "  * Search within an enclosing function (if any) (shown below)\n",
    "3. Global\n",
    "  * Search imported modules\n",
    "  * Variables defined in-line (a Donny Don't habit)\n",
    "4. Namespace (built-in variables, like len() or range())\n",
    "\n",
    "### What does this mean?\n",
    "* Advantages\n",
    "  * Functions can be used modularly\n",
    "    * Variables normally won't \"creep\" into functions\n",
    "  * Encourages code re-use\n",
    "* Pitfalls\n",
    "  * It's possible to use variables from other parts of the code\n",
    "    * This is a **very bad thing**\n",
    "      * This has shut down CCF's Electronic Medical Records\n",
    "    \n",
    "### How to avoid those problems?\n",
    "* Don't use in-line code\n",
    "* Use if \\__name\\__ =='\\__main\\__':\n",
    "* define/use \\_test() functions\n",
    "* Don't define global variables (unless necessary)\n",
    "* Don't give functions/classes/modules generic names\n",
    "  * Follow a convention:\n",
    "    * The first letter in function/class names is capitolized\n",
    "    * Functions have an action word\n",
    "      * def getStress(), def setStretches(), def calcModulus()"
   ]
  },
  {
   "cell_type": "markdown",
   "metadata": {
    "slideshow": {
     "slide_type": "subslide"
    }
   },
   "source": [
    "## Enclosing functions\n",
    "### Donny Don't Does (and recieves a lot of judgement)"
   ]
  },
  {
   "cell_type": "code",
   "execution_count": null,
   "metadata": {
    "collapsed": true
   },
   "outputs": [],
   "source": [
    "def DonnyDontPowerLaw(a,k,xVal):\n",
    "    def calc():\n",
    "        yVal = a*xVal**k\n",
    "        return yVal\n",
    "    donnysStupidValue = calc()\n",
    "    return donnysStupidValue\n",
    "someVal = DonyDontPowerLaw(0.1, 0.3, 2.3)"
   ]
  },
  {
   "cell_type": "markdown",
   "metadata": {},
   "source": [
    "The example below shows two things\n",
    "1. Functions can be used like variables\n",
    "2. The nestedFun's scope includes powerLawFactory's scope\n",
    "\n",
    "### Donny Don't Doesn't (and really should)"
   ]
  },
  {
   "cell_type": "code",
   "execution_count": null,
   "metadata": {
    "collapsed": false
   },
   "outputs": [],
   "source": [
    "def powerLawFactory(a,k):\n",
    "    def nestedFun(xVal):\n",
    "        print 'a, k = ', a, k\n",
    "        yVal = a*xVal**k\n",
    "        return yVal\n",
    "    return nestedFun\n",
    "\n",
    "powerFunction1 = powerLawFactory(0.1, 0.3)\n",
    "someYvalue1 = powerFunction1(2.3)\n",
    "print someYvalue1\n",
    "\n",
    "powerFunction2 = powerLawFactory(0.3, 1.78)\n",
    "someYvalue2 = powerFunction2(2.3)\n",
    "print someYvalue2"
   ]
  },
  {
   "cell_type": "markdown",
   "metadata": {
    "slideshow": {
     "slide_type": "slide"
    }
   },
   "source": [
    "# Classes"
   ]
  },
  {
   "cell_type": "markdown",
   "metadata": {},
   "source": [
    "## Definitions\n",
    "* Attributes\n",
    "  * Variables that are **within the class instance's scope**\n",
    "  * Defined as *classinstance*.var = someValue\n",
    "  * Can be any variable type (even other class instances)\n",
    "* Methods\n",
    "  * Functions that are **within the class instance's scope**\n",
    "  * First input is always the class instance\n",
    "    * Automatically input when calling methods\n",
    "    * Normally called *self* in the class definition\n",
    "    \n",
    "![alt text](ClassDefinitionFigure.png)"
   ]
  },
  {
   "cell_type": "markdown",
   "metadata": {
    "slideshow": {
     "slide_type": "subslide"
    }
   },
   "source": [
    "## Scope\n",
    "* Each class instance has its own scope\n",
    "  * Methods are within this scope\n",
    "  * Class attributes are within this scope\n",
    "  * Local variables are not\n",
    "  \n",
    "### What does this mean?\n",
    "* We can have multiple instances of the same class\n",
    "  * Different instances -> different attributes\n",
    "  * Similar behavior\n",
    "* Mistakes are easy to fix\n",
    "  * Fix mistakes at the class definition"
   ]
  },
  {
   "cell_type": "code",
   "execution_count": null,
   "metadata": {
    "collapsed": true
   },
   "outputs": [],
   "source": [
    "class bar():\n",
    "    def someMethod(self, input1):\n",
    "        self.someVar = input1\n",
    "        desiredValue = input1**2\n",
    "        return desiredValue\n",
    "    \n",
    "    def anotherMethod(self):\n",
    "        theSameDesiredValue = self.someVar**2\n",
    "        return theSameDesiredValue\n",
    "    \n",
    "foo = bar()\n",
    "someVal = foo.someMethod(4.5)\n",
    "theSameVal = foo.anotherMethod()"
   ]
  },
  {
   "cell_type": "markdown",
   "metadata": {
    "slideshow": {
     "slide_type": "subslide"
    }
   },
   "source": [
    "## \\__init__\n",
    "* A reserved method\n",
    "  * Automatically called when a class instance is defined\n",
    "  * Does not have a *return* statement\n",
    "  * Good practice is to initialize class attributes in \\__init__"
   ]
  },
  {
   "cell_type": "code",
   "execution_count": 2,
   "metadata": {
    "collapsed": true
   },
   "outputs": [],
   "source": [
    "class bar():\n",
    "    def __init__(self, input1):\n",
    "        self.someVar = input1\n",
    "        \n",
    "    def anotherMethod(self):\n",
    "        desiredValue = self.someVar**2\n",
    "        return desiredValue\n",
    "    \n",
    "foo = bar(4.5)\n",
    "someVal = foo.anotherMethod()"
   ]
  },
  {
   "cell_type": "markdown",
   "metadata": {
    "slideshow": {
     "slide_type": "subslide"
    }
   },
   "source": [
    "## Inheritance\n",
    "\n",
    "#### Classes can inherit other classes\n",
    "* A child class inherits a parent class\n",
    "* child can use parent's methods and attributes\n",
    "  * The built-in function \"super\" becomes relevant\n",
    "* A child can overwrite a parent's methods and attributes"
   ]
  },
  {
   "cell_type": "code",
   "execution_count": null,
   "metadata": {
    "collapsed": true
   },
   "outputs": [],
   "source": [
    "class nodesSuper():\n",
    "    def __init__(self, nodes=None):\n",
    "        if nodes is not None: # If a value is give for nodes, define the class attribute\n",
    "            self.setNodes(nodes)\n",
    "\n",
    "    def setNodes(self, nodes):\n",
    "        # This method should check if nodes is an approprite input.\n",
    "        # This may be a good place to define node numbers\n",
    "        self.nodes = nodes\n",
    "        self.nodeNum = len(nodes)\n",
    "        return\n",
    "    \n",
    "    def getNodesTextBlock(self):\n",
    "        # ... format the nodes text block the way you want\n",
    "        return textBlock\n",
    "    \n",
    "class quadrilateralMesh(nodesSuper):\n",
    "    def __init__(self, elements, nodes=None):\n",
    "        # This calls __init__ in the inherited class\n",
    "        super(quadrilateralMesh, self).__init__(nodes)\n",
    "        \n",
    "    def exportMesh(self, fileName):\n",
    "        nodesTextBlock = self.getNodesTextBlock()\n",
    "        \n",
    "        elementsTextBlock = self.getElementsTextBlock\n",
    "        #... Do things with the text blocks\n",
    "        return\n",
    "        \n",
    "    def getElementsTextBlock(self):\n",
    "        #... format the elements the way you want\n",
    "        return textBlock\n",
    "        "
   ]
  },
  {
   "cell_type": "markdown",
   "metadata": {
    "slideshow": {
     "slide_type": "subslide"
    }
   },
   "source": [
    "## NOTES\n",
    "\n",
    "#### \"class variables\" are common throughout every class instance\n",
    "* Changing one instance's class variable will change the same variable in every other instance"
   ]
  },
  {
   "cell_type": "code",
   "execution_count": null,
   "metadata": {
    "collapsed": true
   },
   "outputs": [],
   "source": [
    "class foo():\n",
    "    classVar = 5 # NOTE: classVar is just some variable name, it is not a reserved name\n",
    "    def __init__(self):\n",
    "        self.someVar = None\n",
    "        \n",
    "    def someMethod(self)\n",
    "        print self.classVar\n",
    "        return        "
   ]
  },
  {
   "cell_type": "markdown",
   "metadata": {
    "slideshow": {
     "slide_type": "skip"
    }
   },
   "source": [
    "# VTK\n",
    "* A module that contains imaging and visualiation functions\n",
    "* Import and manipulate DICOM images and STL files\n",
    "  * Create tetrahedral meshes\n",
    "* Registration\n",
    "  * Landmark based\n",
    "  * Surface to surface\n",
    "  * Point cloud to surface\n",
    "  \n",
    "VTK can be used in Python code, but it is written in C++\n",
    "* Very much class/object based\n",
    "  * Define variables much more deliberately\n",
    "* Debugging doesn't reveal class information\n",
    "  * The documentation & examples are your friend"
   ]
  },
  {
   "cell_type": "markdown",
   "metadata": {
    "slideshow": {
     "slide_type": "skip"
    }
   },
   "source": [
    "## Example!\n",
    "* How much overlap is there between oks001 femoral cartilage and femoral bone?\n",
    "  * Perform boolean operation between bone and cartilage surfaces\n",
    "  * Measure the volume of the resulting surface"
   ]
  },
  {
   "cell_type": "code",
   "execution_count": null,
   "metadata": {
    "collapsed": true,
    "slideshow": {
     "slide_type": "skip"
    }
   },
   "outputs": [],
   "source": [
    "import vtk\n",
    "\n"
   ]
  }
 ],
 "metadata": {
  "celltoolbar": "Slideshow",
  "kernelspec": {
   "display_name": "Python 2",
   "language": "python",
   "name": "python2"
  },
  "language_info": {
   "codemirror_mode": {
    "name": "ipython",
    "version": 2
   },
   "file_extension": ".py",
   "mimetype": "text/x-python",
   "name": "python",
   "nbconvert_exporter": "python",
   "pygments_lexer": "ipython2",
   "version": "2.7.11"
  }
 },
 "nbformat": 4,
 "nbformat_minor": 0
}
